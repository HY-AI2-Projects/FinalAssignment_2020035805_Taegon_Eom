{
  "cells": [
    {
      "cell_type": "code",
      "execution_count": 9,
      "metadata": {
        "id": "zPQeNjZRoMGW"
      },
      "outputs": [],
      "source": [
        "#Sphere Test Function\n",
        "def sphere(x):#x is a vector  of length n     \n",
        "  return sum(x**2)"
      ]
    },
    {
      "cell_type": "code",
      "execution_count": 10,
      "metadata": {
        "colab": {
          "base_uri": "https://localhost:8080/",
          "height": 358
        },
        "id": "9vUjVWrjn0bK",
        "outputId": "12534757-87e0-4ad8-879a-f09546eb78c4"
      },
      "outputs": [],
      "source": [
        "import numpy as np\n",
        "import matplotlib.pyplot as plt\n",
        "from ypstruct import structure"
      ]
    },
    {
      "cell_type": "code",
      "execution_count": 11,
      "metadata": {
        "id": "-fiCGa5_oXWS"
      },
      "outputs": [],
      "source": [
        "# Problem Definition\n",
        "problem = structure()\n",
        "problem.costfunc = sphere #definition of costfunction #problem.costfunc(x) = sphere(x)\n",
        "problem.nvar = 5 # number of variables\n",
        "problem.varmin = -10 #lower bound of variables  \n",
        "problem.varmax = 10 #upper bound of variables\n",
        "\n",
        "\n"
      ]
    },
    {
      "cell_type": "code",
      "execution_count": 12,
      "metadata": {
        "id": "PNjxHnRipMzq"
      },
      "outputs": [],
      "source": [
        "# GA Parameters\n",
        "params = structure()\n",
        "params.maxit = 100 #maximum number of iterations(generations)\n",
        "params.npop=20  #population size   (number of individuals)  \n",
        "params.pc = 1 #crossover percentage (probability of crossover)\n",
        "params.gamma = 0.1 #extra range factor for crossover    (0.1-0.2)\n",
        "params.mu = 0.1 #mutation percentage (probability of mutation)  (0.1-0.2)   \n",
        "params.sigma = 0.1 #mutation step size (gaussian distribution parameter) (0.1-0.2)  \n"
      ]
    },
    {
      "cell_type": "code",
      "execution_count": 13,
      "metadata": {
        "id": "aTg2ONhu1J4g"
      },
      "outputs": [],
      "source": [
        "def apply_bound(x,varmin,varmax):#function to apply bounds not to exceed the limits\n",
        "  x.position = np.maximum(x.position, varmin)\n",
        "  x.position = np.minimum(x.position, varmax)\n"
      ]
    },
    {
      "cell_type": "code",
      "execution_count": 14,
      "metadata": {
        "id": "YqVDbsusyjuS"
      },
      "outputs": [],
      "source": [
        "def mutate(x, mu, sigma):#function to mutate  (gaussian distribution)\n",
        "  y = x.deepcopy()\n",
        "  flag = np.random.rand(*x.position.shape) <= mu\n",
        "  ind = np.argwhere(flag)\n",
        "  y.position[ind] += sigma*np.random.randn(*ind.shape)\n",
        "  return y"
      ]
    },
    {
      "cell_type": "code",
      "execution_count": 15,
      "metadata": {
        "id": "HQK5w_s4uqgz"
      },
      "outputs": [],
      "source": [
        "def crossover(p1, p2,gamma =0.1) :\n",
        "#function to perform crossover  (gamma is extra range factor)       \n",
        "  c1 = p1.deepcopy()\n",
        "  c2 = p2.deepcopy()\n",
        "  gamma = 0.1\n",
        "  alpha = np.random.uniform(-gamma,1+gamma, *c1.position.shape)\n",
        "  c1.position = alpha*p1.position +(1-alpha)*p2.position\n",
        "  c2.position = alpha*p2.position +(1-alpha)*p1.position\n",
        "  return c1, c2"
      ]
    },
    {
      "cell_type": "code",
      "execution_count": 16,
      "metadata": {
        "id": "mofflfiUpmcB"
      },
      "outputs": [],
      "source": [
        "#ga.py\n",
        "\n",
        "def run(problem, params):#function to run GA algorithm    \n",
        "  # Problem Information\n",
        "  costfunc = problem.costfunc\n",
        "  nvar = problem.nvar\n",
        "  varmin = problem.varmin\n",
        "  varmax = problem.varmax\n",
        "  # Parameters\n",
        "  maxit = params.maxit\n",
        "  npop = params.npop\n",
        "  pc = params.pc\n",
        "  nc = int(np.round(pc*npop/2)*2)\n",
        "  gamma = params.gamma\n",
        "  mu = params.mu\n",
        "  sigma = params.sigma\n",
        "  # Empty Individual Template\n",
        "  empty_individual = structure()\n",
        "  empty_individual.position = None\n",
        "  empty_individual.cost = None\n",
        "\n",
        "  #BestSolution Ever Found\n",
        "  bestsol = empty_individual.deepcopy()\n",
        "  bestsol.cost = np.inf\n",
        "\n",
        "\n",
        "  #Initializiation Population\n",
        "  pop = empty_individual.repeat(npop)\n",
        "  for i in range(0, npop):\n",
        "    pop[i].position = np.random.uniform(varmin,varmax,nvar)\n",
        "    pop[i].cost = costfunc(pop[i].position)\n",
        "    if pop[i].cost <bestsol.cost:\n",
        "      bestsol = pop[i].deepcopy()\n",
        "  # Best Cost of Iteration\n",
        "  bestcost= np.empty(maxit)\n",
        "\n",
        "  # Main Loop\n",
        "  for it in range(maxit):\n",
        "\n",
        "    popc = []\n",
        "    for _ in range(nc//2):\n",
        "\n",
        "        q = np.random.permutation(npop)\n",
        "        p1 = pop[q[0]]\n",
        "        p2 = pop[q[1]]\n",
        "\n",
        "        # Perform Crossover\n",
        "        c1, c2 = crossover(p1,p2,gamma)\n",
        "        # Perform Mutation\n",
        "        c1 = mutate(c1,mu,sigma)\n",
        "        c2 = mutate(c2,mu,sigma)\n",
        "\n",
        "        #Apply Bounds\n",
        "        apply_bound(c1, varmin, varmax)\n",
        "        apply_bound(c2, varmin, varmax)\n",
        "\n",
        "        #Evaluate First Offspring\n",
        "        c1.cost = costfunc(c1.position)\n",
        "        if c1.cost<bestsol.cost:\n",
        "          bestsol = c1.deepcopy()\n",
        "\n",
        "        #Evaluate Second Offspring\n",
        "        c2.cost = costfunc(c2.position)\n",
        "        if c2.cost<bestsol.cost:\n",
        "          bestsol = c2.deepcopy()\n",
        "\n",
        "        # Add Offsprings to popc\n",
        "\n",
        "        popc.append(c1)\n",
        "        popc.append(c2)\n",
        "\n",
        "    # Merge, Sort and Select\n",
        "    pop += popc\n",
        "    pop = sorted(pop, key= lambda x: x.cost)\n",
        "    pop = pop[0:npop]\n",
        "\n",
        "    # Store Best Cost\n",
        "    bestcost[it] = bestsol.cost\n",
        "\n",
        "    #Show Iteration Information\n",
        "    print(f\"Iteration {it}:  Best Cost {bestcost[it]}\")\n",
        "\n",
        "\n",
        "  #Output\n",
        "  out = structure()\n",
        "  out.pop = pop\n",
        "  out.bestsol = bestsol\n",
        "  out.bestcost = bestcost\n",
        "  return out"
      ]
    },
    {
      "cell_type": "code",
      "execution_count": 17,
      "metadata": {
        "id": "wTNRiOnipW3p"
      },
      "outputs": [
        {
          "name": "stdout",
          "output_type": "stream",
          "text": [
            "Iteration 0:  Best Cost 16.160768250611977\n",
            "Iteration 1:  Best Cost 10.90525028085616\n",
            "Iteration 2:  Best Cost 10.90525028085616\n",
            "Iteration 3:  Best Cost 3.729062526340078\n",
            "Iteration 4:  Best Cost 3.729062526340078\n",
            "Iteration 5:  Best Cost 2.893767187764224\n",
            "Iteration 6:  Best Cost 1.3108981905994677\n",
            "Iteration 7:  Best Cost 1.2510602167483378\n",
            "Iteration 8:  Best Cost 0.6856664844877411\n",
            "Iteration 9:  Best Cost 0.6856664844877411\n",
            "Iteration 10:  Best Cost 0.45117275399038465\n",
            "Iteration 11:  Best Cost 0.44479476023587816\n",
            "Iteration 12:  Best Cost 0.11972797718838571\n",
            "Iteration 13:  Best Cost 0.11812240040127894\n",
            "Iteration 14:  Best Cost 0.09093191252373171\n",
            "Iteration 15:  Best Cost 0.05600316848168862\n",
            "Iteration 16:  Best Cost 0.05600316848168862\n",
            "Iteration 17:  Best Cost 0.03533873395035765\n",
            "Iteration 18:  Best Cost 0.026812885693316437\n",
            "Iteration 19:  Best Cost 0.013050206707617152\n",
            "Iteration 20:  Best Cost 0.01192188507686256\n",
            "Iteration 21:  Best Cost 0.008388362972486933\n",
            "Iteration 22:  Best Cost 0.00326217683000258\n",
            "Iteration 23:  Best Cost 0.0007851061935638534\n",
            "Iteration 24:  Best Cost 0.0007851061935638534\n",
            "Iteration 25:  Best Cost 0.0007851061935638534\n",
            "Iteration 26:  Best Cost 0.0003329968318555515\n",
            "Iteration 27:  Best Cost 0.00028996820304145066\n",
            "Iteration 28:  Best Cost 0.00028996820304145066\n",
            "Iteration 29:  Best Cost 0.0002807506241128769\n",
            "Iteration 30:  Best Cost 0.0001657524295422018\n",
            "Iteration 31:  Best Cost 8.792718554324501e-05\n",
            "Iteration 32:  Best Cost 6.446802317957475e-05\n",
            "Iteration 33:  Best Cost 4.8648216733527954e-05\n",
            "Iteration 34:  Best Cost 4.8648216733527954e-05\n",
            "Iteration 35:  Best Cost 1.562868265377256e-05\n",
            "Iteration 36:  Best Cost 1.3822115922785444e-05\n",
            "Iteration 37:  Best Cost 1.3822115922785444e-05\n",
            "Iteration 38:  Best Cost 1.3822115922785444e-05\n",
            "Iteration 39:  Best Cost 1.2845658348202739e-05\n",
            "Iteration 40:  Best Cost 1.1157591275507837e-05\n",
            "Iteration 41:  Best Cost 7.676906929246112e-06\n",
            "Iteration 42:  Best Cost 7.346143874456965e-06\n",
            "Iteration 43:  Best Cost 5.998949767772773e-06\n",
            "Iteration 44:  Best Cost 3.6878292089314094e-06\n",
            "Iteration 45:  Best Cost 3.6878292089314094e-06\n",
            "Iteration 46:  Best Cost 3.325348503284427e-06\n",
            "Iteration 47:  Best Cost 2.7248089580481113e-06\n",
            "Iteration 48:  Best Cost 2.7248089580481113e-06\n",
            "Iteration 49:  Best Cost 2.7248089580481113e-06\n",
            "Iteration 50:  Best Cost 2.7248089580481113e-06\n",
            "Iteration 51:  Best Cost 2.7248089580481113e-06\n",
            "Iteration 52:  Best Cost 2.7248089580481113e-06\n",
            "Iteration 53:  Best Cost 2.7248089580481113e-06\n",
            "Iteration 54:  Best Cost 2.7248089580481113e-06\n",
            "Iteration 55:  Best Cost 2.7248089580481113e-06\n",
            "Iteration 56:  Best Cost 2.698153055776764e-06\n",
            "Iteration 57:  Best Cost 2.6960288983554223e-06\n",
            "Iteration 58:  Best Cost 2.6960288983554223e-06\n",
            "Iteration 59:  Best Cost 2.6736486387082993e-06\n",
            "Iteration 60:  Best Cost 2.6736486387082993e-06\n",
            "Iteration 61:  Best Cost 2.627785463274851e-06\n",
            "Iteration 62:  Best Cost 2.627785463274851e-06\n",
            "Iteration 63:  Best Cost 2.627785463274851e-06\n",
            "Iteration 64:  Best Cost 2.627785463274851e-06\n",
            "Iteration 65:  Best Cost 2.627785463274851e-06\n",
            "Iteration 66:  Best Cost 2.627785463274851e-06\n",
            "Iteration 67:  Best Cost 2.627785463274851e-06\n",
            "Iteration 68:  Best Cost 2.627785463274851e-06\n",
            "Iteration 69:  Best Cost 2.627785463274851e-06\n",
            "Iteration 70:  Best Cost 2.6244348865550047e-06\n",
            "Iteration 71:  Best Cost 2.6244348865550047e-06\n",
            "Iteration 72:  Best Cost 2.6244348865550047e-06\n",
            "Iteration 73:  Best Cost 2.624399446425915e-06\n",
            "Iteration 74:  Best Cost 2.624399446425915e-06\n",
            "Iteration 75:  Best Cost 2.624396749227392e-06\n",
            "Iteration 76:  Best Cost 2.62430842952107e-06\n",
            "Iteration 77:  Best Cost 2.6235604156655344e-06\n",
            "Iteration 78:  Best Cost 2.623529650107832e-06\n",
            "Iteration 79:  Best Cost 2.622614639180657e-06\n",
            "Iteration 80:  Best Cost 2.622614639180657e-06\n",
            "Iteration 81:  Best Cost 2.6222218412108976e-06\n",
            "Iteration 82:  Best Cost 2.6222218412108976e-06\n",
            "Iteration 83:  Best Cost 2.6222218412108976e-06\n",
            "Iteration 84:  Best Cost 2.6222218412108976e-06\n",
            "Iteration 85:  Best Cost 2.6221780036964652e-06\n",
            "Iteration 86:  Best Cost 2.6220370892564738e-06\n",
            "Iteration 87:  Best Cost 2.6220370892564738e-06\n",
            "Iteration 88:  Best Cost 2.6220370892564738e-06\n",
            "Iteration 89:  Best Cost 2.621938366692445e-06\n",
            "Iteration 90:  Best Cost 2.6217712833011953e-06\n",
            "Iteration 91:  Best Cost 2.6217712833011953e-06\n",
            "Iteration 92:  Best Cost 2.6217712833011953e-06\n",
            "Iteration 93:  Best Cost 2.6217712833011953e-06\n",
            "Iteration 94:  Best Cost 2.6217712833011953e-06\n",
            "Iteration 95:  Best Cost 2.621771085168031e-06\n",
            "Iteration 96:  Best Cost 2.621771085168031e-06\n",
            "Iteration 97:  Best Cost 2.621771085168031e-06\n",
            "Iteration 98:  Best Cost 2.621771085168031e-06\n",
            "Iteration 99:  Best Cost 2.6217610398009406e-06\n"
          ]
        }
      ],
      "source": [
        "#Run GA\n",
        "out = run(problem,params)\n",
        "\n"
      ]
    },
    {
      "cell_type": "code",
      "execution_count": 18,
      "metadata": {
        "id": "YBB51eovp5xy"
      },
      "outputs": [],
      "source": [
        "# Result"
      ]
    }
  ],
  "metadata": {
    "colab": {
      "gpuType": "T4",
      "provenance": []
    },
    "kernelspec": {
      "display_name": "Python 3",
      "name": "python3"
    },
    "language_info": {
      "codemirror_mode": {
        "name": "ipython",
        "version": 3
      },
      "file_extension": ".py",
      "mimetype": "text/x-python",
      "name": "python",
      "nbconvert_exporter": "python",
      "pygments_lexer": "ipython3",
      "version": "3.9.7"
    }
  },
  "nbformat": 4,
  "nbformat_minor": 0
}
